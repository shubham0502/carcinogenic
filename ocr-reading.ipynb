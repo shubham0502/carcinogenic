{
 "cells": [
  {
   "cell_type": "code",
   "execution_count": 1,
   "id": "26565eb4",
   "metadata": {
    "_cell_guid": "b1076dfc-b9ad-4769-8c92-a6c4dae69d19",
    "_uuid": "8f2839f25d086af736a60e9eeb907d3b93b6e0e5",
    "execution": {
     "iopub.execute_input": "2021-11-28T08:25:36.756295Z",
     "iopub.status.busy": "2021-11-28T08:25:36.755628Z",
     "iopub.status.idle": "2021-11-28T08:25:36.777963Z",
     "shell.execute_reply": "2021-11-28T08:25:36.778563Z",
     "shell.execute_reply.started": "2021-11-28T06:35:07.908845Z"
    },
    "papermill": {
     "duration": 0.044765,
     "end_time": "2021-11-28T08:25:36.778893",
     "exception": false,
     "start_time": "2021-11-28T08:25:36.734128",
     "status": "completed"
    },
    "tags": []
   },
   "outputs": [
    {
     "name": "stdout",
     "output_type": "stream",
     "text": [
      "/kaggle/input/chemicalcsv2/chemicalsimp2.csv\n",
      "/kaggle/input/chemcarc1/chemicalcarc1\n",
      "/kaggle/input/testimage/test1.jpg\n"
     ]
    }
   ],
   "source": [
    "# This Python 3 environment comes with many helpful analytics libraries installed\n",
    "# It is defined by the kaggle/python Docker image: https://github.com/kaggle/docker-python\n",
    "# For example, here's several helpful packages to load\n",
    "\n",
    "# data processing, CSV file I/O (e.g. pd.read_csv)\n",
    "\n",
    "# Input data files are available in the read-only \"../input/\" directory\n",
    "# For example, running this (by clicking run or pressing Shift+Enter) will list all files under the input directory\n",
    "\n",
    "import os\n",
    "for dirname, _, filenames in os.walk('/kaggle/input'):\n",
    "    for filename in filenames:\n",
    "        print(os.path.join(dirname, filename))\n",
    "\n",
    "# You can write up to 20GB to the current directory (/kaggle/working/) that gets preserved as output when you create a version using \"Save & Run All\" \n",
    "# You can also write temporary files to /kaggle/temp/, but they won't be saved outside of the current session"
   ]
  },
  {
   "cell_type": "code",
   "execution_count": 2,
   "id": "c1b9a2f7",
   "metadata": {
    "execution": {
     "iopub.execute_input": "2021-11-28T08:25:36.802332Z",
     "iopub.status.busy": "2021-11-28T08:25:36.801704Z",
     "iopub.status.idle": "2021-11-28T08:25:37.207339Z",
     "shell.execute_reply": "2021-11-28T08:25:37.206628Z",
     "shell.execute_reply.started": "2021-11-28T07:40:21.691762Z"
    },
    "papermill": {
     "duration": 0.417881,
     "end_time": "2021-11-28T08:25:37.207484",
     "exception": false,
     "start_time": "2021-11-28T08:25:36.789603",
     "status": "completed"
    },
    "tags": []
   },
   "outputs": [],
   "source": [
    "import pytesseract as py\n",
    "import cv2\n",
    "import re \n",
    "import numpy as np\n",
    "import pandas as pd\n",
    "import matplotlib.pyplot as plt\n",
    "import PIL\n",
    "import json\n",
    "from flask import Flask, request, render_template, jsonify, make_response\n",
    "from PIL import Image as ima"
   ]
  },
  {
   "cell_type": "code",
   "execution_count": 3,
   "id": "fb29c834",
   "metadata": {
    "execution": {
     "iopub.execute_input": "2021-11-28T08:25:37.241305Z",
     "iopub.status.busy": "2021-11-28T08:25:37.240663Z",
     "iopub.status.idle": "2021-11-28T08:25:37.244647Z",
     "shell.execute_reply": "2021-11-28T08:25:37.244171Z",
     "shell.execute_reply.started": "2021-11-28T07:32:26.901712Z"
    },
    "papermill": {
     "duration": 0.027211,
     "end_time": "2021-11-28T08:25:37.244796",
     "exception": false,
     "start_time": "2021-11-28T08:25:37.217585",
     "status": "completed"
    },
    "tags": []
   },
   "outputs": [],
   "source": [
    "\n",
    "# get grayscale image\n",
    "def get_grayscale(image):\n",
    "    return cv2.cvtColor(image, cv2.COLOR_BGR2GRAY)\n",
    "\n",
    "# noise removal\n",
    "def remove_noise(image):\n",
    "    return cv2.medianBlur(image,5)\n",
    " \n",
    "#thresholding\n",
    "def thresholding(image):\n",
    "    return cv2.threshold(image, 0, 255, cv2.THRESH_BINARY + cv2.THRESH_OTSU)[1]\n",
    "\n",
    "#dilation\n",
    "def dilate(image):\n",
    "    kernel = np.ones((5,5),np.uint8)\n",
    "    return cv2.dilate(image, kernel, iterations = 1)\n",
    "    \n",
    "#erosion\n",
    "def erode(image):\n",
    "    kernel = np.ones((5,5),np.uint8)\n",
    "    return cv2.erode(image, kernel, iterations = 1)\n",
    "\n",
    "#opening - erosion followed by dilation\n",
    "def opening(image):\n",
    "    kernel = np.ones((5,5),np.uint8)\n",
    "    return cv2.morphologyEx(image, cv2.MORPH_OPEN, kernel)\n",
    "\n",
    "#canny edge detection\n",
    "def canny(image):\n",
    "    return cv2.Canny(image, 100, 200)\n",
    "\n",
    "#skew correction\n",
    "def deskew(image):\n",
    "    coords = np.column_stack(np.where(image > 0))\n",
    "    angle = cv2.minAreaRect(coords)[-1]\n",
    "    if angle < -45:\n",
    "        angle = -(90 + angle)\n",
    "    else:\n",
    "        angle = -angle\n",
    "    (h, w) = image.shape[:2]\n",
    "    center = (w // 2, h // 2)\n",
    "    M = cv2.getRotationMatrix2D(center, angle, 1.0)\n",
    "    rotated = cv2.warpAffine(image, M, (w, h), flags=cv2.INTER_CUBIC, borderMode=cv2.BORDER_REPLICATE)\n",
    "    return rotated\n",
    "\n",
    "#template matching\n",
    "def match_template(image, template):\n",
    "    return cv2.matchTemplate(image, template, cv2.TM_CCOEFF_NORMED)\n",
    "def clean(text):\n",
    "    return re.sub('[^A-Za-z0-9\" \"]+', '', text)"
   ]
  },
  {
   "cell_type": "code",
   "execution_count": 4,
   "id": "109ec699",
   "metadata": {
    "execution": {
     "iopub.execute_input": "2021-11-28T08:25:37.275325Z",
     "iopub.status.busy": "2021-11-28T08:25:37.274545Z",
     "iopub.status.idle": "2021-11-28T08:25:37.277168Z",
     "shell.execute_reply": "2021-11-28T08:25:37.276639Z"
    },
    "papermill": {
     "duration": 0.020501,
     "end_time": "2021-11-28T08:25:37.277298",
     "exception": false,
     "start_time": "2021-11-28T08:25:37.256797",
     "status": "completed"
    },
    "tags": []
   },
   "outputs": [],
   "source": [
    "app = Flask(__name__)\n",
    "@app.route('/send', methods=['POST', 'GET'])\n",
    "def send():\n",
    "    if request.method == 'POST':\n",
    "        postdata = request.form\n",
    "        file_name = postdata['filename']\n",
    "        print(\"file name: ====================== {}\".format(file_name))\n",
    "        file = str(file_name)\n",
    "        path = \".\\\\static\\\\\" + file\n",
    "        return render_template('/send.html')"
   ]
  },
  {
   "cell_type": "code",
   "execution_count": 5,
   "id": "45c01d2d",
   "metadata": {
    "execution": {
     "iopub.execute_input": "2021-11-28T08:25:37.302445Z",
     "iopub.status.busy": "2021-11-28T08:25:37.301818Z",
     "iopub.status.idle": "2021-11-28T08:25:37.372263Z",
     "shell.execute_reply": "2021-11-28T08:25:37.373124Z",
     "shell.execute_reply.started": "2021-11-28T07:32:27.921490Z"
    },
    "papermill": {
     "duration": 0.085808,
     "end_time": "2021-11-28T08:25:37.373314",
     "exception": false,
     "start_time": "2021-11-28T08:25:37.287506",
     "status": "completed"
    },
    "tags": []
   },
   "outputs": [],
   "source": [
    "image = cv2.imread('../input/testimage/test1.jpg')\n",
    "image = cv2.resize(image, (400, 400))\n",
    "gray = get_grayscale(image)\n",
    "thresh = thresholding(gray)\n",
    "opening = opening(gray)\n",
    "canny = canny(gray)"
   ]
  },
  {
   "cell_type": "code",
   "execution_count": 6,
   "id": "d7f3e4d6",
   "metadata": {
    "execution": {
     "iopub.execute_input": "2021-11-28T08:25:37.399883Z",
     "iopub.status.busy": "2021-11-28T08:25:37.395935Z",
     "iopub.status.idle": "2021-11-28T08:25:38.808280Z",
     "shell.execute_reply": "2021-11-28T08:25:38.807759Z",
     "shell.execute_reply.started": "2021-11-28T07:32:31.004383Z"
    },
    "papermill": {
     "duration": 1.42474,
     "end_time": "2021-11-28T08:25:38.808447",
     "exception": false,
     "start_time": "2021-11-28T08:25:37.383707",
     "status": "completed"
    },
    "tags": []
   },
   "outputs": [],
   "source": [
    "df = py.image_to_data(gray, output_type = 'data.frame')\n",
    "df = df[df['conf'] != -1] \n",
    "df['text'] = df['text'].apply(lambda x: x.strip())\n",
    "df = df[df['text']!=\"\"]\n",
    "df['text'] = df['text'].apply(lambda x: x.lower())\n",
    "df = df[df.text.str.len() > 3]\n",
    "df.text = df.text.replace('\\*','', regex = True)\n",
    "df.text = df.text.apply(clean)"
   ]
  },
  {
   "cell_type": "code",
   "execution_count": 7,
   "id": "ffa4ac9c",
   "metadata": {
    "execution": {
     "iopub.execute_input": "2021-11-28T08:25:38.834651Z",
     "iopub.status.busy": "2021-11-28T08:25:38.833784Z",
     "iopub.status.idle": "2021-11-28T08:25:38.837245Z",
     "shell.execute_reply": "2021-11-28T08:25:38.836713Z",
     "shell.execute_reply.started": "2021-11-28T07:32:42.322845Z"
    },
    "papermill": {
     "duration": 0.01859,
     "end_time": "2021-11-28T08:25:38.837394",
     "exception": false,
     "start_time": "2021-11-28T08:25:38.818804",
     "status": "completed"
    },
    "tags": []
   },
   "outputs": [],
   "source": [
    "#formatting of dataset file\n",
    "# d = pd.read_csv('../input/chemicalcsv2/chemicalsimp2.csv')\n",
    "# d = d.drop(['Unnamed: 2','ID_v5'], axis = 1)\n",
    "# d = d.dropna(axis = 0)\n",
    "# d[\"Chemical Name\"] = d[\"Chemical Name\"].apply(clean)\n",
    "# d[\"Chemical Name\"] = d[\"Chemical Name\"].apply(lambda x: x.lower())\n",
    "# d = d.append({'Chemical Name': 'acesulfame potassium'}, ignore_index = True)\n",
    "# d.to_csv('chemicalcarc1', index = False)"
   ]
  },
  {
   "cell_type": "code",
   "execution_count": 8,
   "id": "5a0f6d5f",
   "metadata": {
    "execution": {
     "iopub.execute_input": "2021-11-28T08:25:38.863315Z",
     "iopub.status.busy": "2021-11-28T08:25:38.862642Z",
     "iopub.status.idle": "2021-11-28T08:25:38.873382Z",
     "shell.execute_reply": "2021-11-28T08:25:38.873944Z",
     "shell.execute_reply.started": "2021-11-28T07:34:30.306911Z"
    },
    "papermill": {
     "duration": 0.026155,
     "end_time": "2021-11-28T08:25:38.874108",
     "exception": false,
     "start_time": "2021-11-28T08:25:38.847953",
     "status": "completed"
    },
    "tags": []
   },
   "outputs": [],
   "source": [
    "c = pd.read_csv('../input/chemcarc1/chemicalcarc1')\n",
    "c = c.append({'Chemical Name': 'neotame'}, ignore_index = True)\n",
    "chem = c[\"Chemical Name\"].tolist()"
   ]
  },
  {
   "cell_type": "code",
   "execution_count": 9,
   "id": "362b1654",
   "metadata": {
    "execution": {
     "iopub.execute_input": "2021-11-28T08:25:38.897436Z",
     "iopub.status.busy": "2021-11-28T08:25:38.896800Z",
     "iopub.status.idle": "2021-11-28T08:25:38.903175Z",
     "shell.execute_reply": "2021-11-28T08:25:38.903662Z",
     "shell.execute_reply.started": "2021-11-28T07:34:50.749629Z"
    },
    "papermill": {
     "duration": 0.019424,
     "end_time": "2021-11-28T08:25:38.903838",
     "exception": false,
     "start_time": "2021-11-28T08:25:38.884414",
     "status": "completed"
    },
    "tags": []
   },
   "outputs": [],
   "source": [
    "shifted_text_col = list(df['text'].iloc[1:])\n",
    "shifted_text_col.append(\"\")\n",
    "df['text_2row'] = df['text'] + \" \" + shifted_text_col"
   ]
  },
  {
   "cell_type": "code",
   "execution_count": 10,
   "id": "595bf54f",
   "metadata": {
    "execution": {
     "iopub.execute_input": "2021-11-28T08:25:38.927196Z",
     "iopub.status.busy": "2021-11-28T08:25:38.926301Z",
     "iopub.status.idle": "2021-11-28T08:25:38.937557Z",
     "shell.execute_reply": "2021-11-28T08:25:38.938031Z",
     "shell.execute_reply.started": "2021-11-28T07:41:38.823612Z"
    },
    "papermill": {
     "duration": 0.024265,
     "end_time": "2021-11-28T08:25:38.938197",
     "exception": false,
     "start_time": "2021-11-28T08:25:38.913932",
     "status": "completed"
    },
    "tags": []
   },
   "outputs": [],
   "source": [
    "i = 0\n",
    "chemical = []\n",
    "while i < len(df):   \n",
    "    if df['text_2row'].iloc[i] in chem:\n",
    "        chemical.append(df.text_2row.iloc[i])\n",
    "        i += 1\n",
    "    elif df['text'].iloc[i] in chem:\n",
    "        chemical.append(df.text.iloc[i])\n",
    "        i += 1\n",
    "    else:\n",
    "        i += 1\n",
    "if chemical == []:\n",
    "    diction = {\"harmful ingredients\" : \"none\"}\n",
    "else:\n",
    "    diction = {\"harmful ingredients\" : chemical}\n",
    "jason_object = json.dumps(diction, indent = 3)\n",
    "with open(\"output.json\", \"w\") as outfile:\n",
    "    outfile.write(jason_object)"
   ]
  },
  {
   "cell_type": "code",
   "execution_count": null,
   "id": "2dd65d98",
   "metadata": {
    "papermill": {
     "duration": 0.009772,
     "end_time": "2021-11-28T08:25:38.958247",
     "exception": false,
     "start_time": "2021-11-28T08:25:38.948475",
     "status": "completed"
    },
    "tags": []
   },
   "outputs": [],
   "source": []
  }
 ],
 "metadata": {
  "kernelspec": {
   "display_name": "Python 3",
   "language": "python",
   "name": "python3"
  },
  "language_info": {
   "codemirror_mode": {
    "name": "ipython",
    "version": 3
   },
   "file_extension": ".py",
   "mimetype": "text/x-python",
   "name": "python",
   "nbconvert_exporter": "python",
   "pygments_lexer": "ipython3",
   "version": "3.7.10"
  },
  "papermill": {
   "default_parameters": {},
   "duration": 11.535747,
   "end_time": "2021-11-28T08:25:39.577308",
   "environment_variables": {},
   "exception": null,
   "input_path": "__notebook__.ipynb",
   "output_path": "__notebook__.ipynb",
   "parameters": {},
   "start_time": "2021-11-28T08:25:28.041561",
   "version": "2.3.3"
  }
 },
 "nbformat": 4,
 "nbformat_minor": 5
}
